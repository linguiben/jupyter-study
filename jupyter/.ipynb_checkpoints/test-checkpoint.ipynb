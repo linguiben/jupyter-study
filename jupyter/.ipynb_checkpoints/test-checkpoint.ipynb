{
 "cells": [
  {
   "cell_type": "markdown",
   "id": "3cb57fd2-9b52-46b7-8f7c-e757abb6bfbe",
   "metadata": {},
   "source": [
    "## 测试一下md\n",
    "[www.JupiterSo.com](http://www.jupiterSo.com)\n",
    "\n",
    "***使用LaTeX编辑数据公式***.  \n",
    "```java\n",
    "$...$ 表示行内公式\n",
    "$$...$$ 表示公式占单独一行\n",
    "```\n",
    "这是爱因斯坦的只能方程$E = mc^2$，用于表示质能转换。\n",
    "$$x = \\frac{-b\\pm \\sqrt{b^2-4ac}}{2a}$$  "
   ]
  },
  {
   "cell_type": "code",
   "execution_count": 6,
   "id": "f3a99537-9aba-4647-ab92-2129ece394da",
   "metadata": {},
   "outputs": [
    {
     "name": "stdout",
     "output_type": "stream",
     "text": [
      "Hello World!~\n"
     ]
    }
   ],
   "source": [
    "print('Hello World!~')"
   ]
  },
  {
   "cell_type": "code",
   "execution_count": 11,
   "id": "83661adf-6b80-44f3-a367-f696f1bdb1b8",
   "metadata": {},
   "outputs": [
    {
     "name": "stdout",
     "output_type": "stream",
     "text": [
      "5\n"
     ]
    }
   ],
   "source": [
    "print(3+2)"
   ]
  },
  {
   "cell_type": "code",
   "execution_count": 12,
   "id": "5fd55b1b-5405-4cd9-b577-fc2d9383c64f",
   "metadata": {},
   "outputs": [],
   "source": [
    "names = ['Cesilia','Jupiter']"
   ]
  },
  {
   "cell_type": "code",
   "execution_count": null,
   "id": "43a864c7-1239-4a78-a7af-d48cadc4f2c8",
   "metadata": {},
   "outputs": [],
   "source": []
  }
 ],
 "metadata": {
  "kernelspec": {
   "display_name": "Python 3 (ipykernel)",
   "language": "python",
   "name": "python3"
  },
  "language_info": {
   "codemirror_mode": {
    "name": "ipython",
    "version": 3
   },
   "file_extension": ".py",
   "mimetype": "text/x-python",
   "name": "python",
   "nbconvert_exporter": "python",
   "pygments_lexer": "ipython3",
   "version": "3.11.0"
  }
 },
 "nbformat": 4,
 "nbformat_minor": 5
}
